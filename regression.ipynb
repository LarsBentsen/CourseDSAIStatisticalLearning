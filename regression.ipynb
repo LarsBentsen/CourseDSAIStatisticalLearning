{
 "cells": [
  {
   "cell_type": "markdown",
   "metadata": {},
   "source": [
    "<a href=\"https://colab.research.google.com/github/LarsBentsen/CourseDSAIStatisticalLearning/blob/main/testing.ipynb\" target=\"_parent\"><img src=\"https://colab.research.google.com/assets/colab-badge.svg\" alt=\"Open In Colab\"/></a>"
   ]
  },
  {
   "cell_type": "markdown",
   "metadata": {},
   "source": [
    "# Predicting House Prices"
   ]
  },
  {
   "cell_type": "code",
   "execution_count": null,
   "metadata": {},
   "outputs": [],
   "source": [
    "import pandas as pd\n",
    "import numpy as np \n",
    "import matplotlib.pyplot as plt \n",
    "import seaborn as sns\n",
    "from sklearn.model_selection import train_test_split, GridSearchCV, KFold\n",
    "from sklearn.linear_model import LinearRegression, SGDRegressor, Lasso, Ridge\n",
    "from sklearn.svm import SVR\n",
    "from sklearn.metrics import mean_absolute_error, mean_squared_error, r2_score"
   ]
  },
  {
   "cell_type": "markdown",
   "metadata": {},
   "source": [
    "## Load the California Housing Dataset"
   ]
  },
  {
   "cell_type": "code",
   "execution_count": null,
   "metadata": {},
   "outputs": [],
   "source": [
    "df = pd.read_csv('https://github.com/LarsBentsen/CourseDSAIStatisticalLearning/blob/main/data/California_Housing.txt?raw=true')\n",
    "print(\"number of rows: \", df.shape[0])\n",
    "df.head()"
   ]
  },
  {
   "cell_type": "code",
   "execution_count": null,
   "metadata": {},
   "outputs": [],
   "source": [
    "# rename columns to be consistent with the book\n",
    "df.rename(columns={\n",
    "    'population': 'Population',\n",
    "    'housingMedianAge': 'HouseAge',\n",
    "    'longitude': 'Longitude',\n",
    "    'latitude': 'Latitude',\n",
    "    'medianIncome': 'MedInc',\n",
    "    'medianHouseValue': 'MedHouseVal'}, inplace=True)\n",
    "df['MedHouseVal'] /= 100000\n",
    "\n",
    "# calculate average values from total values\n",
    "df['AveBedrms'] = df['totalBedrooms'] / df['households']\n",
    "df['AveRooms'] = df['totalRooms'] / df['households']\n",
    "df['AveOccup'] = df['Population'] / df['households']\n",
    "\n",
    "# The response variable Y is the median house value in each\n",
    "# neighborhood measured in units of $100,000.\n",
    "target = 'MedHouseVal'\n",
    "\n",
    "features = ['Population', 'AveBedrms', 'AveRooms', 'HouseAge',\n",
    "            'Latitude', 'AveOccup', 'Longitude', 'MedInc']"
   ]
  },
  {
   "cell_type": "code",
   "execution_count": null,
   "metadata": {},
   "outputs": [],
   "source": [
    "# check missing values\n",
    "df.info()"
   ]
  },
  {
   "cell_type": "markdown",
   "metadata": {},
   "source": [
    "## Plot the correlation matrix to get a sense of the linear correlation between features"
   ]
  },
  {
   "cell_type": "code",
   "execution_count": null,
   "metadata": {},
   "outputs": [],
   "source": [
    "corr = df.corr()\n",
    "# Plot the correlation matrix\n",
    "fig, ax = plt.subplots(figsize=(5, 4))\n",
    "cax = ax.matshow(corr, cmap='coolwarm')\n",
    "\n",
    "# Add color bar\n",
    "plt.colorbar(cax)\n",
    "\n",
    "# Set ticks and labels\n",
    "ax.set_xticks(np.arange(len(corr.columns)))\n",
    "ax.set_yticks(np.arange(len(corr.columns)))\n",
    "\n",
    "ax.set_xticklabels(corr.columns, rotation=90)\n",
    "ax.set_yticklabels(corr.columns)\n",
    "\n",
    "# Customize the x-tick label for \"MedHouseVal\"\n",
    "for label in ax.get_xticklabels():\n",
    "    if label.get_text() == \"MedHouseVal\":\n",
    "        label.set_color('red')\n",
    "\n",
    "# Customize the y-tick label for \"MedHouseVal\"\n",
    "for label in ax.get_yticklabels():\n",
    "    if label.get_text() == \"MedHouseVal\":\n",
    "        label.set_color('red')\n",
    "\n",
    "# Show the plot\n",
    "plt.show()"
   ]
  },
  {
   "cell_type": "code",
   "execution_count": null,
   "metadata": {},
   "outputs": [],
   "source": [
    "df.head()"
   ]
  },
  {
   "cell_type": "code",
   "execution_count": null,
   "metadata": {},
   "outputs": [],
   "source": [
    "df.describe()"
   ]
  },
  {
   "cell_type": "code",
   "execution_count": null,
   "metadata": {},
   "outputs": [],
   "source": [
    "# Scatter plots of the features against each other and histograms of the features\n",
    "plt.figure(figsize=(5,5))\n",
    "sns.pairplot(df)\n",
    "plt.show()"
   ]
  },
  {
   "cell_type": "markdown",
   "metadata": {},
   "source": [
    "## Data preperation\n",
    "\n",
    "Before model training, data needs to be prepared to be suitable for further model training and analysis\n",
    "\n",
    "### Longitude\n",
    "Example with one feature. Check distribution and correlation with target feature. Will decide if this column can be dropped. "
   ]
  },
  {
   "cell_type": "code",
   "execution_count": null,
   "metadata": {},
   "outputs": [],
   "source": [
    "df['Longitude'].describe()"
   ]
  },
  {
   "cell_type": "code",
   "execution_count": null,
   "metadata": {},
   "outputs": [],
   "source": [
    "plt.figure(figsize=(8,6))\n",
    "sns.histplot(x=df['Longitude'], bins=10, palette='viridis', kde=True)\n",
    "plt.title(\"The distribution of Longitude Feature\")\n",
    "plt.ylabel(\"\")\n",
    "plt.show()"
   ]
  },
  {
   "cell_type": "code",
   "execution_count": null,
   "metadata": {},
   "outputs": [],
   "source": [
    "# Check the correlation between the feature and response (median house value)\n",
    "# Longitude does not contain any useful information for median house value\n",
    "plt.figure(figsize=(6,5))\n",
    "sns.scatterplot(x=df['Longitude'], y=df['MedHouseVal'])"
   ]
  },
  {
   "cell_type": "markdown",
   "metadata": {},
   "source": [
    "### Average of total rooms"
   ]
  },
  {
   "cell_type": "code",
   "execution_count": null,
   "metadata": {},
   "outputs": [],
   "source": [
    "df['AveBedrms'].describe()"
   ]
  },
  {
   "cell_type": "code",
   "execution_count": null,
   "metadata": {},
   "outputs": [],
   "source": [
    "plt.figure(figsize=(7,6))\n",
    "sns.histplot(x=df['AveBedrms'], bins=10, kde=True)\n",
    "plt.title(\"The distribution of the average total rooms\")\n",
    "plt.ylabel(\"\")\n",
    "plt.show()"
   ]
  },
  {
   "cell_type": "markdown",
   "metadata": {},
   "source": [
    "Strong right-skewed feature.\n",
    "Check possible outliers"
   ]
  },
  {
   "cell_type": "code",
   "execution_count": null,
   "metadata": {},
   "outputs": [],
   "source": [
    "plt.figure(figsize=(10,5))\n",
    "sns.boxplot(x=df['AveBedrms'])\n",
    "plt.title(\"The representation of the possible outliers\")\n",
    "plt.show()"
   ]
  },
  {
   "cell_type": "markdown",
   "metadata": {},
   "source": [
    "Many possible outliers. Choose a threshold to filter them out.\n",
    "Test with the 95th percentile"
   ]
  },
  {
   "cell_type": "code",
   "execution_count": null,
   "metadata": {},
   "outputs": [],
   "source": [
    "perc_99 = np.percentile(df['AveBedrms'], 99)\n",
    "print(f'99th Percentile Value: {perc_99}')\n",
    "outliers = (df['AveBedrms']>perc_99).sum()\n",
    "print(f'Number of Potential Outliers: {outliers}')\n",
    "print(f\"The max value is {np.max(df['AveBedrms'])}\")"
   ]
  },
  {
   "cell_type": "code",
   "execution_count": null,
   "metadata": {},
   "outputs": [],
   "source": [
    "# drop values above the 95th percentile\n",
    "df.drop(df[df['AveBedrms']>perc_99].index, axis=0, inplace=True)"
   ]
  },
  {
   "cell_type": "code",
   "execution_count": null,
   "metadata": {},
   "outputs": [],
   "source": [
    "# check distribution\n",
    "plt.figure(figsize=(7,6))\n",
    "sns.histplot(x=df['AveBedrms'], bins=10, kde=True)\n",
    "plt.title(\"The distribution of the average total rooms after remove outliers\")\n",
    "plt.ylabel(\"\")\n",
    "plt.show()"
   ]
  },
  {
   "cell_type": "code",
   "execution_count": null,
   "metadata": {},
   "outputs": [],
   "source": [
    "# check distribution\n",
    "plt.figure(figsize=(7,6))\n",
    "sns.histplot(x=df['AveOccup'], bins=10, kde=True)\n",
    "plt.title(\"The distribution of the average occupants\")\n",
    "plt.show()"
   ]
  },
  {
   "cell_type": "code",
   "execution_count": null,
   "metadata": {},
   "outputs": [],
   "source": [
    "perc_99 = np.percentile(df['AveOccup'], 99)\n",
    "print(f'95th Percentile Value: {perc_99}')\n",
    "outliers = (df['AveOccup']>perc_99).sum()\n",
    "print(f'Number of Potential Outliers: {outliers}')\n",
    "print(f\"The max value is {np.max(df['AveOccup'])}\")"
   ]
  },
  {
   "cell_type": "code",
   "execution_count": null,
   "metadata": {},
   "outputs": [],
   "source": [
    "# drop values above the 95th percentile\n",
    "df.drop(df[df['AveOccup']>perc_99].index, axis=0, inplace=True)"
   ]
  },
  {
   "cell_type": "code",
   "execution_count": null,
   "metadata": {},
   "outputs": [],
   "source": [
    "# check distribution\n",
    "plt.figure(figsize=(7,6))\n",
    "sns.histplot(x=df['AveOccup'], bins=10, kde=True)\n",
    "plt.title(\"The distribution of the average occupants\")\n",
    "plt.show()"
   ]
  },
  {
   "cell_type": "markdown",
   "metadata": {},
   "source": [
    "Feature is now more normally distributed. Ideally you want to do this for all the columns, but will be skipped here for brevity... "
   ]
  },
  {
   "cell_type": "markdown",
   "metadata": {},
   "source": [
    "# Model training"
   ]
  },
  {
   "cell_type": "code",
   "execution_count": null,
   "metadata": {},
   "outputs": [],
   "source": [
    "# Split Test/Train\n",
    "# Set the seed (so that we all get the same results)\n",
    "np.random.seed(666)\n",
    "test_indxs = np.random.choice(np.arange(df.shape[0]), size=df.shape[0] // 5, replace=False)\n",
    "df_test = df.iloc[test_indxs]\n",
    "df = df.drop(df.index[test_indxs])"
   ]
  },
  {
   "cell_type": "code",
   "execution_count": null,
   "metadata": {},
   "outputs": [],
   "source": [
    "# Start with the simplest model - linear regression\n",
    "\n",
    "# divide target value from features\n",
    "X_train = df[features]\n",
    "y_train = df[target]\n",
    "\n",
    "X_test = df_test[features]\n",
    "y_test = df_test[target]\n",
    "\n",
    "lr = LinearRegression()\n",
    "lr.fit(X_train,y_train)"
   ]
  },
  {
   "cell_type": "code",
   "execution_count": null,
   "metadata": {},
   "outputs": [],
   "source": [
    "# Model evaluation\n",
    "print(f\"Train Accuracy:{lr.score(X_train,y_train)}\")        # i.e. R2 score\n",
    "print(f\"Test Accuracy:{lr.score(X_test,y_test)}\")\n",
    "\n",
    "y_pred = lr.predict(X_test)\n",
    "print(f\"Mean Squared Error: {mean_squared_error(y_test, y_pred)}\")\n",
    "print(f\"Mean Absolute Error: {mean_absolute_error(y_test, y_pred)}\")\n",
    "print(f\"R2 Score: {r2_score(y_test, y_pred)}\")"
   ]
  },
  {
   "cell_type": "code",
   "execution_count": null,
   "metadata": {},
   "outputs": [],
   "source": [
    "mean_squared_error(y_train,  lr.predict(X_train))"
   ]
  },
  {
   "cell_type": "code",
   "execution_count": null,
   "metadata": {},
   "outputs": [],
   "source": [
    "plt.figure(figsize=(10,10))\n",
    "plt.scatter(y_test, y_pred, c='crimson')\n",
    "plt.yscale('log')\n",
    "plt.xscale('log')\n",
    "\n",
    "p1 = max(max(y_pred), max(y_test))\n",
    "p2 = min(min(y_pred), min(y_test))\n",
    "plt.plot([p1, p2], [p1, p2], 'b-')\n",
    "plt.xlabel('True Values', fontsize=15)\n",
    "plt.ylabel('Predictions', fontsize=15)\n",
    "plt.axis('equal')\n",
    "plt.show()"
   ]
  },
  {
   "cell_type": "code",
   "execution_count": null,
   "metadata": {},
   "outputs": [],
   "source": [
    "\n",
    "lr = LinearRegression()\n",
    "lr.fit(X_train,y_train)\n",
    "\n",
    "fig, axs = plt.subplots(2, int(np.ceil(len(features)/2)), figsize=(20, 10))\n",
    "axs = axs.flatten()\n",
    "for i, f_i in enumerate(features):\n",
    "    axs[i].set_title(f_i)\n",
    "    axs[i].scatter(X_train[f_i], y_train.values - lr.predict(X_train), alpha=0.02)"
   ]
  },
  {
   "cell_type": "code",
   "execution_count": null,
   "metadata": {},
   "outputs": [],
   "source": [
    "# Define the models and their parameter grids for tuning\n",
    "param_grid_lasso = {'alpha': np.logspace(-4, 4, 50)}\n",
    "param_grid_ridge = {'alpha': np.logspace(-4, 4, 50)}\n",
    "\n",
    "# Define 5-fold cross-validation\n",
    "kf = KFold(n_splits=5, shuffle=True, random_state=42)\n",
    "\n",
    "# Initialize GridSearchCV for Lasso and Ridge\n",
    "lasso_cv = GridSearchCV(Lasso(), param_grid_lasso, cv=kf, scoring='neg_mean_squared_error')\n",
    "ridge_cv = GridSearchCV(Ridge(), param_grid_ridge, cv=kf, scoring='neg_mean_squared_error')\n",
    "\n",
    "# Fit the models\n",
    "lasso_cv.fit(X_train, y_train)\n",
    "ridge_cv.fit(X_train, y_train)\n",
    "\n",
    "# Print the best parameters and corresponding scores\n",
    "print(f\"Best Lasso alpha: {lasso_cv.best_params_['alpha']}\")\n",
    "print(f\"Best Lasso MSE: {-lasso_cv.best_score_}\")\n",
    "\n",
    "print(f\"Best Ridge alpha: {ridge_cv.best_params_['alpha']}\")\n",
    "print(f\"Best Ridge MSE: {-ridge_cv.best_score_}\")\n",
    "\n",
    "# Optionally, fit the models on the entire dataset with the best found parameters\n",
    "best_lasso = Lasso(alpha=lasso_cv.best_params_['alpha']).fit(X_train, y_train)\n",
    "best_ridge = Ridge(alpha=ridge_cv.best_params_['alpha']).fit(X_train, y_train)\n",
    "\n",
    "print(f\"Best Lasso model coefficients: {best_lasso.coef_}\")\n",
    "print(f\"Best Ridge model coefficients: {best_ridge.coef_}\")"
   ]
  },
  {
   "cell_type": "code",
   "execution_count": null,
   "metadata": {},
   "outputs": [],
   "source": [
    "\n",
    "# Make predictions with all models\n",
    "y_pred_lr = LinearRegression().fit(X_train, y_train).predict(X_test)\n",
    "y_pred_lasso = best_lasso.predict(X_test)\n",
    "y_pred_ridge = best_ridge.predict(X_test)\n",
    "\n",
    "\n",
    "# Plot predictions\n",
    "plt.figure(figsize=(10,10))\n",
    "plt.scatter(y_test, y_pred_lr, c='blue', label='Linear Regression', alpha=0.3)\n",
    "plt.scatter(y_test, y_pred_lasso, c='red', label='Lasso', alpha=0.3)\n",
    "plt.scatter(y_test, y_pred_ridge, c='green', label='Ridge', alpha=0.3)\n",
    "plt.yscale('log')\n",
    "plt.xscale('log')\n",
    "p1 = max(max(y_pred_lr), max(y_test))\n",
    "p2 = min(min(y_pred_lr), min(y_test))\n",
    "plt.plot([p1, p2], [p1, p2], 'b-')\n",
    "plt.xlabel('True Values', fontsize=15)\n",
    "plt.ylabel('Predictions', fontsize=15)\n",
    "plt.axis('equal')\n",
    "plt.legend()\n",
    "plt.show()\n",
    "\n",
    "# Model evaluation\n",
    "models = {\n",
    "    \"Linear Regression\": LinearRegression(),\n",
    "    \"Lasso\": best_lasso,\n",
    "    \"Ridge\": best_ridge\n",
    "}\n",
    "\n",
    "\n",
    "results = []\n",
    "\n",
    "for name, model in models.items():\n",
    "    model.fit(X_train, y_train)\n",
    "    train_mse = mean_squared_error(y_train, model.predict(X_train))\n",
    "    test_mse = mean_squared_error(y_test, model.predict(X_test))\n",
    "    test_mae = mean_absolute_error(y_test, model.predict(X_test))\n",
    "    test_r2 = r2_score(y_test, model.predict(X_test))\n",
    "    results.append({'Model': name, 'Train MSE': train_mse, 'Test MSE': test_mse, \n",
    "                    'Test MAE': test_mae, 'Test R2': test_r2})\n",
    "\n",
    "results_df = pd.DataFrame(results)\n",
    "print(results_df)"
   ]
  },
  {
   "cell_type": "markdown",
   "metadata": {},
   "source": [
    "# Your turn: \n",
    "\n",
    "1. Can we improve the preprocessing of the data? Try to investigate the other features to see if you can find any other columns with significant outliers. \n",
    "2. Can you improve performance by trying to avoid heteroscedastic errors? \n",
    "    - Are there any trends in the residuals or residual variance? \n",
    "3. Is a more advanced model maybe required? Maybe try a boosting model, SVR or MLP? "
   ]
  }
 ],
 "metadata": {
  "kernelspec": {
   "display_name": "Python 3",
   "language": "python",
   "name": "python3"
  },
  "language_info": {
   "codemirror_mode": {
    "name": "ipython",
    "version": 3
   },
   "file_extension": ".py",
   "mimetype": "text/x-python",
   "name": "python",
   "nbconvert_exporter": "python",
   "pygments_lexer": "ipython3",
   "version": "3.11.9"
  }
 },
 "nbformat": 4,
 "nbformat_minor": 2
}
