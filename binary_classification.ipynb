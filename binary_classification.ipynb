{
 "cells": [
  {
   "cell_type": "markdown",
   "metadata": {},
   "source": [
    "<a href=\"https://colab.research.google.com/github/LarsBentsen/CourseDSAIStatisticalLearning/blob/main/binary_classification.ipynb\" target=\"_parent\"><img src=\"https://colab.research.google.com/assets/colab-badge.svg\" alt=\"Open In Colab\"/></a>"
   ]
  },
  {
   "cell_type": "markdown",
   "metadata": {},
   "source": [
    "# AIDS Virus infection classification"
   ]
  },
  {
   "cell_type": "code",
   "execution_count": 2,
   "metadata": {},
   "outputs": [],
   "source": [
    "import pandas as pd\n",
    "import numpy as np \n",
    "import matplotlib.pyplot as plt \n",
    "import seaborn as sns\n",
    "from sklearn.model_selection import train_test_split\n",
    "from sklearn.ensemble import RandomForestClassifier\n",
    "import xgboost as xgb\n",
    "from sklearn.metrics import confusion_matrix, classification_report, accuracy_score, balanced_accuracy_score, roc_auc_score, recall_score, RocCurveDisplay\n",
    "from imblearn.over_sampling import SMOTE"
   ]
  },
  {
   "cell_type": "markdown",
   "metadata": {},
   "source": [
    "## Load the AIDS classification dataset"
   ]
  },
  {
   "cell_type": "code",
   "execution_count": 3,
   "metadata": {},
   "outputs": [
    {
     "name": "stdout",
     "output_type": "stream",
     "text": [
      "number of rows:  2139\n"
     ]
    },
    {
     "data": {
      "text/html": [
       "<div>\n",
       "<style scoped>\n",
       "    .dataframe tbody tr th:only-of-type {\n",
       "        vertical-align: middle;\n",
       "    }\n",
       "\n",
       "    .dataframe tbody tr th {\n",
       "        vertical-align: top;\n",
       "    }\n",
       "\n",
       "    .dataframe thead th {\n",
       "        text-align: right;\n",
       "    }\n",
       "</style>\n",
       "<table border=\"1\" class=\"dataframe\">\n",
       "  <thead>\n",
       "    <tr style=\"text-align: right;\">\n",
       "      <th></th>\n",
       "      <th>time</th>\n",
       "      <th>trt</th>\n",
       "      <th>age</th>\n",
       "      <th>wtkg</th>\n",
       "      <th>hemo</th>\n",
       "      <th>homo</th>\n",
       "      <th>drugs</th>\n",
       "      <th>karnof</th>\n",
       "      <th>oprior</th>\n",
       "      <th>z30</th>\n",
       "      <th>...</th>\n",
       "      <th>str2</th>\n",
       "      <th>strat</th>\n",
       "      <th>symptom</th>\n",
       "      <th>treat</th>\n",
       "      <th>offtrt</th>\n",
       "      <th>cd40</th>\n",
       "      <th>cd420</th>\n",
       "      <th>cd80</th>\n",
       "      <th>cd820</th>\n",
       "      <th>infected</th>\n",
       "    </tr>\n",
       "  </thead>\n",
       "  <tbody>\n",
       "    <tr>\n",
       "      <th>0</th>\n",
       "      <td>948</td>\n",
       "      <td>2</td>\n",
       "      <td>48</td>\n",
       "      <td>89.8128</td>\n",
       "      <td>0</td>\n",
       "      <td>0</td>\n",
       "      <td>0</td>\n",
       "      <td>100</td>\n",
       "      <td>0</td>\n",
       "      <td>0</td>\n",
       "      <td>...</td>\n",
       "      <td>0</td>\n",
       "      <td>1</td>\n",
       "      <td>0</td>\n",
       "      <td>1</td>\n",
       "      <td>0</td>\n",
       "      <td>422</td>\n",
       "      <td>477</td>\n",
       "      <td>566</td>\n",
       "      <td>324</td>\n",
       "      <td>0</td>\n",
       "    </tr>\n",
       "    <tr>\n",
       "      <th>1</th>\n",
       "      <td>1002</td>\n",
       "      <td>3</td>\n",
       "      <td>61</td>\n",
       "      <td>49.4424</td>\n",
       "      <td>0</td>\n",
       "      <td>0</td>\n",
       "      <td>0</td>\n",
       "      <td>90</td>\n",
       "      <td>0</td>\n",
       "      <td>1</td>\n",
       "      <td>...</td>\n",
       "      <td>1</td>\n",
       "      <td>3</td>\n",
       "      <td>0</td>\n",
       "      <td>1</td>\n",
       "      <td>0</td>\n",
       "      <td>162</td>\n",
       "      <td>218</td>\n",
       "      <td>392</td>\n",
       "      <td>564</td>\n",
       "      <td>1</td>\n",
       "    </tr>\n",
       "    <tr>\n",
       "      <th>2</th>\n",
       "      <td>961</td>\n",
       "      <td>3</td>\n",
       "      <td>45</td>\n",
       "      <td>88.4520</td>\n",
       "      <td>0</td>\n",
       "      <td>1</td>\n",
       "      <td>1</td>\n",
       "      <td>90</td>\n",
       "      <td>0</td>\n",
       "      <td>1</td>\n",
       "      <td>...</td>\n",
       "      <td>1</td>\n",
       "      <td>3</td>\n",
       "      <td>0</td>\n",
       "      <td>1</td>\n",
       "      <td>1</td>\n",
       "      <td>326</td>\n",
       "      <td>274</td>\n",
       "      <td>2063</td>\n",
       "      <td>1893</td>\n",
       "      <td>0</td>\n",
       "    </tr>\n",
       "    <tr>\n",
       "      <th>3</th>\n",
       "      <td>1166</td>\n",
       "      <td>3</td>\n",
       "      <td>47</td>\n",
       "      <td>85.2768</td>\n",
       "      <td>0</td>\n",
       "      <td>1</td>\n",
       "      <td>0</td>\n",
       "      <td>100</td>\n",
       "      <td>0</td>\n",
       "      <td>1</td>\n",
       "      <td>...</td>\n",
       "      <td>1</td>\n",
       "      <td>3</td>\n",
       "      <td>0</td>\n",
       "      <td>1</td>\n",
       "      <td>0</td>\n",
       "      <td>287</td>\n",
       "      <td>394</td>\n",
       "      <td>1590</td>\n",
       "      <td>966</td>\n",
       "      <td>0</td>\n",
       "    </tr>\n",
       "    <tr>\n",
       "      <th>4</th>\n",
       "      <td>1090</td>\n",
       "      <td>0</td>\n",
       "      <td>43</td>\n",
       "      <td>66.6792</td>\n",
       "      <td>0</td>\n",
       "      <td>1</td>\n",
       "      <td>0</td>\n",
       "      <td>100</td>\n",
       "      <td>0</td>\n",
       "      <td>1</td>\n",
       "      <td>...</td>\n",
       "      <td>1</td>\n",
       "      <td>3</td>\n",
       "      <td>0</td>\n",
       "      <td>0</td>\n",
       "      <td>0</td>\n",
       "      <td>504</td>\n",
       "      <td>353</td>\n",
       "      <td>870</td>\n",
       "      <td>782</td>\n",
       "      <td>0</td>\n",
       "    </tr>\n",
       "  </tbody>\n",
       "</table>\n",
       "<p>5 rows × 23 columns</p>\n",
       "</div>"
      ],
      "text/plain": [
       "   time  trt  age     wtkg  hemo  homo  drugs  karnof  oprior  z30  ...  str2  \\\n",
       "0   948    2   48  89.8128     0     0      0     100       0    0  ...     0   \n",
       "1  1002    3   61  49.4424     0     0      0      90       0    1  ...     1   \n",
       "2   961    3   45  88.4520     0     1      1      90       0    1  ...     1   \n",
       "3  1166    3   47  85.2768     0     1      0     100       0    1  ...     1   \n",
       "4  1090    0   43  66.6792     0     1      0     100       0    1  ...     1   \n",
       "\n",
       "   strat  symptom  treat  offtrt  cd40  cd420  cd80  cd820  infected  \n",
       "0      1        0      1       0   422    477   566    324         0  \n",
       "1      3        0      1       0   162    218   392    564         1  \n",
       "2      3        0      1       1   326    274  2063   1893         0  \n",
       "3      3        0      1       0   287    394  1590    966         0  \n",
       "4      3        0      0       0   504    353   870    782         0  \n",
       "\n",
       "[5 rows x 23 columns]"
      ]
     },
     "execution_count": 3,
     "metadata": {},
     "output_type": "execute_result"
    }
   ],
   "source": [
    "df = pd.read_csv('https://github.com/LarsBentsen/CourseDSAIStatisticalLearning/blob/main/data/AIDS_Classification.csv?raw=true')\n",
    "print(\"number of rows: \", df.shape[0])\n",
    "df.head()"
   ]
  },
  {
   "cell_type": "code",
   "execution_count": 4,
   "metadata": {},
   "outputs": [
    {
     "name": "stdout",
     "output_type": "stream",
     "text": [
      "<class 'pandas.core.frame.DataFrame'>\n",
      "RangeIndex: 2139 entries, 0 to 2138\n",
      "Data columns (total 23 columns):\n",
      " #   Column    Non-Null Count  Dtype  \n",
      "---  ------    --------------  -----  \n",
      " 0   time      2139 non-null   int64  \n",
      " 1   trt       2139 non-null   int64  \n",
      " 2   age       2139 non-null   int64  \n",
      " 3   wtkg      2139 non-null   float64\n",
      " 4   hemo      2139 non-null   int64  \n",
      " 5   homo      2139 non-null   int64  \n",
      " 6   drugs     2139 non-null   int64  \n",
      " 7   karnof    2139 non-null   int64  \n",
      " 8   oprior    2139 non-null   int64  \n",
      " 9   z30       2139 non-null   int64  \n",
      " 10  preanti   2139 non-null   int64  \n",
      " 11  race      2139 non-null   int64  \n",
      " 12  gender    2139 non-null   int64  \n",
      " 13  str2      2139 non-null   int64  \n",
      " 14  strat     2139 non-null   int64  \n",
      " 15  symptom   2139 non-null   int64  \n",
      " 16  treat     2139 non-null   int64  \n",
      " 17  offtrt    2139 non-null   int64  \n",
      " 18  cd40      2139 non-null   int64  \n",
      " 19  cd420     2139 non-null   int64  \n",
      " 20  cd80      2139 non-null   int64  \n",
      " 21  cd820     2139 non-null   int64  \n",
      " 22  infected  2139 non-null   int64  \n",
      "dtypes: float64(1), int64(22)\n",
      "memory usage: 384.5 KB\n"
     ]
    }
   ],
   "source": [
    "# check missing values\n",
    "df.info()"
   ]
  },
  {
   "cell_type": "code",
   "execution_count": 5,
   "metadata": {},
   "outputs": [
    {
     "data": {
      "text/html": [
       "<div>\n",
       "<style scoped>\n",
       "    .dataframe tbody tr th:only-of-type {\n",
       "        vertical-align: middle;\n",
       "    }\n",
       "\n",
       "    .dataframe tbody tr th {\n",
       "        vertical-align: top;\n",
       "    }\n",
       "\n",
       "    .dataframe thead th {\n",
       "        text-align: right;\n",
       "    }\n",
       "</style>\n",
       "<table border=\"1\" class=\"dataframe\">\n",
       "  <thead>\n",
       "    <tr style=\"text-align: right;\">\n",
       "      <th></th>\n",
       "      <th>time</th>\n",
       "      <th>trt</th>\n",
       "      <th>age</th>\n",
       "      <th>wtkg</th>\n",
       "      <th>hemo</th>\n",
       "      <th>homo</th>\n",
       "      <th>drugs</th>\n",
       "      <th>karnof</th>\n",
       "      <th>oprior</th>\n",
       "      <th>z30</th>\n",
       "      <th>...</th>\n",
       "      <th>str2</th>\n",
       "      <th>strat</th>\n",
       "      <th>symptom</th>\n",
       "      <th>treat</th>\n",
       "      <th>offtrt</th>\n",
       "      <th>cd40</th>\n",
       "      <th>cd420</th>\n",
       "      <th>cd80</th>\n",
       "      <th>cd820</th>\n",
       "      <th>infected</th>\n",
       "    </tr>\n",
       "  </thead>\n",
       "  <tbody>\n",
       "    <tr>\n",
       "      <th>count</th>\n",
       "      <td>2139.000000</td>\n",
       "      <td>2139.000000</td>\n",
       "      <td>2139.000000</td>\n",
       "      <td>2139.000000</td>\n",
       "      <td>2139.000000</td>\n",
       "      <td>2139.000000</td>\n",
       "      <td>2139.000000</td>\n",
       "      <td>2139.000000</td>\n",
       "      <td>2139.000000</td>\n",
       "      <td>2139.000000</td>\n",
       "      <td>...</td>\n",
       "      <td>2139.000000</td>\n",
       "      <td>2139.000000</td>\n",
       "      <td>2139.000000</td>\n",
       "      <td>2139.000000</td>\n",
       "      <td>2139.000000</td>\n",
       "      <td>2139.000000</td>\n",
       "      <td>2139.000000</td>\n",
       "      <td>2139.000000</td>\n",
       "      <td>2139.000000</td>\n",
       "      <td>2139.000000</td>\n",
       "    </tr>\n",
       "    <tr>\n",
       "      <th>mean</th>\n",
       "      <td>879.098177</td>\n",
       "      <td>1.520804</td>\n",
       "      <td>35.248247</td>\n",
       "      <td>75.125311</td>\n",
       "      <td>0.084151</td>\n",
       "      <td>0.661057</td>\n",
       "      <td>0.131370</td>\n",
       "      <td>95.446470</td>\n",
       "      <td>0.021973</td>\n",
       "      <td>0.550257</td>\n",
       "      <td>...</td>\n",
       "      <td>0.585788</td>\n",
       "      <td>1.979897</td>\n",
       "      <td>0.172978</td>\n",
       "      <td>0.751286</td>\n",
       "      <td>0.362786</td>\n",
       "      <td>350.501169</td>\n",
       "      <td>371.307153</td>\n",
       "      <td>986.627396</td>\n",
       "      <td>935.369799</td>\n",
       "      <td>0.243572</td>\n",
       "    </tr>\n",
       "    <tr>\n",
       "      <th>std</th>\n",
       "      <td>292.274324</td>\n",
       "      <td>1.127890</td>\n",
       "      <td>8.709026</td>\n",
       "      <td>13.263164</td>\n",
       "      <td>0.277680</td>\n",
       "      <td>0.473461</td>\n",
       "      <td>0.337883</td>\n",
       "      <td>5.900985</td>\n",
       "      <td>0.146629</td>\n",
       "      <td>0.497584</td>\n",
       "      <td>...</td>\n",
       "      <td>0.492701</td>\n",
       "      <td>0.899053</td>\n",
       "      <td>0.378317</td>\n",
       "      <td>0.432369</td>\n",
       "      <td>0.480916</td>\n",
       "      <td>118.573863</td>\n",
       "      <td>144.634909</td>\n",
       "      <td>480.197750</td>\n",
       "      <td>444.976051</td>\n",
       "      <td>0.429338</td>\n",
       "    </tr>\n",
       "    <tr>\n",
       "      <th>min</th>\n",
       "      <td>14.000000</td>\n",
       "      <td>0.000000</td>\n",
       "      <td>12.000000</td>\n",
       "      <td>31.000000</td>\n",
       "      <td>0.000000</td>\n",
       "      <td>0.000000</td>\n",
       "      <td>0.000000</td>\n",
       "      <td>70.000000</td>\n",
       "      <td>0.000000</td>\n",
       "      <td>0.000000</td>\n",
       "      <td>...</td>\n",
       "      <td>0.000000</td>\n",
       "      <td>1.000000</td>\n",
       "      <td>0.000000</td>\n",
       "      <td>0.000000</td>\n",
       "      <td>0.000000</td>\n",
       "      <td>0.000000</td>\n",
       "      <td>49.000000</td>\n",
       "      <td>40.000000</td>\n",
       "      <td>124.000000</td>\n",
       "      <td>0.000000</td>\n",
       "    </tr>\n",
       "    <tr>\n",
       "      <th>25%</th>\n",
       "      <td>727.000000</td>\n",
       "      <td>1.000000</td>\n",
       "      <td>29.000000</td>\n",
       "      <td>66.679200</td>\n",
       "      <td>0.000000</td>\n",
       "      <td>0.000000</td>\n",
       "      <td>0.000000</td>\n",
       "      <td>90.000000</td>\n",
       "      <td>0.000000</td>\n",
       "      <td>0.000000</td>\n",
       "      <td>...</td>\n",
       "      <td>0.000000</td>\n",
       "      <td>1.000000</td>\n",
       "      <td>0.000000</td>\n",
       "      <td>1.000000</td>\n",
       "      <td>0.000000</td>\n",
       "      <td>263.500000</td>\n",
       "      <td>269.000000</td>\n",
       "      <td>654.000000</td>\n",
       "      <td>631.500000</td>\n",
       "      <td>0.000000</td>\n",
       "    </tr>\n",
       "    <tr>\n",
       "      <th>50%</th>\n",
       "      <td>997.000000</td>\n",
       "      <td>2.000000</td>\n",
       "      <td>34.000000</td>\n",
       "      <td>74.390400</td>\n",
       "      <td>0.000000</td>\n",
       "      <td>1.000000</td>\n",
       "      <td>0.000000</td>\n",
       "      <td>100.000000</td>\n",
       "      <td>0.000000</td>\n",
       "      <td>1.000000</td>\n",
       "      <td>...</td>\n",
       "      <td>1.000000</td>\n",
       "      <td>2.000000</td>\n",
       "      <td>0.000000</td>\n",
       "      <td>1.000000</td>\n",
       "      <td>0.000000</td>\n",
       "      <td>340.000000</td>\n",
       "      <td>353.000000</td>\n",
       "      <td>893.000000</td>\n",
       "      <td>865.000000</td>\n",
       "      <td>0.000000</td>\n",
       "    </tr>\n",
       "    <tr>\n",
       "      <th>75%</th>\n",
       "      <td>1091.000000</td>\n",
       "      <td>3.000000</td>\n",
       "      <td>40.000000</td>\n",
       "      <td>82.555200</td>\n",
       "      <td>0.000000</td>\n",
       "      <td>1.000000</td>\n",
       "      <td>0.000000</td>\n",
       "      <td>100.000000</td>\n",
       "      <td>0.000000</td>\n",
       "      <td>1.000000</td>\n",
       "      <td>...</td>\n",
       "      <td>1.000000</td>\n",
       "      <td>3.000000</td>\n",
       "      <td>0.000000</td>\n",
       "      <td>1.000000</td>\n",
       "      <td>1.000000</td>\n",
       "      <td>423.000000</td>\n",
       "      <td>460.000000</td>\n",
       "      <td>1207.000000</td>\n",
       "      <td>1146.500000</td>\n",
       "      <td>0.000000</td>\n",
       "    </tr>\n",
       "    <tr>\n",
       "      <th>max</th>\n",
       "      <td>1231.000000</td>\n",
       "      <td>3.000000</td>\n",
       "      <td>70.000000</td>\n",
       "      <td>159.939360</td>\n",
       "      <td>1.000000</td>\n",
       "      <td>1.000000</td>\n",
       "      <td>1.000000</td>\n",
       "      <td>100.000000</td>\n",
       "      <td>1.000000</td>\n",
       "      <td>1.000000</td>\n",
       "      <td>...</td>\n",
       "      <td>1.000000</td>\n",
       "      <td>3.000000</td>\n",
       "      <td>1.000000</td>\n",
       "      <td>1.000000</td>\n",
       "      <td>1.000000</td>\n",
       "      <td>1199.000000</td>\n",
       "      <td>1119.000000</td>\n",
       "      <td>5011.000000</td>\n",
       "      <td>6035.000000</td>\n",
       "      <td>1.000000</td>\n",
       "    </tr>\n",
       "  </tbody>\n",
       "</table>\n",
       "<p>8 rows × 23 columns</p>\n",
       "</div>"
      ],
      "text/plain": [
       "              time          trt          age         wtkg         hemo  \\\n",
       "count  2139.000000  2139.000000  2139.000000  2139.000000  2139.000000   \n",
       "mean    879.098177     1.520804    35.248247    75.125311     0.084151   \n",
       "std     292.274324     1.127890     8.709026    13.263164     0.277680   \n",
       "min      14.000000     0.000000    12.000000    31.000000     0.000000   \n",
       "25%     727.000000     1.000000    29.000000    66.679200     0.000000   \n",
       "50%     997.000000     2.000000    34.000000    74.390400     0.000000   \n",
       "75%    1091.000000     3.000000    40.000000    82.555200     0.000000   \n",
       "max    1231.000000     3.000000    70.000000   159.939360     1.000000   \n",
       "\n",
       "              homo        drugs       karnof       oprior          z30  ...  \\\n",
       "count  2139.000000  2139.000000  2139.000000  2139.000000  2139.000000  ...   \n",
       "mean      0.661057     0.131370    95.446470     0.021973     0.550257  ...   \n",
       "std       0.473461     0.337883     5.900985     0.146629     0.497584  ...   \n",
       "min       0.000000     0.000000    70.000000     0.000000     0.000000  ...   \n",
       "25%       0.000000     0.000000    90.000000     0.000000     0.000000  ...   \n",
       "50%       1.000000     0.000000   100.000000     0.000000     1.000000  ...   \n",
       "75%       1.000000     0.000000   100.000000     0.000000     1.000000  ...   \n",
       "max       1.000000     1.000000   100.000000     1.000000     1.000000  ...   \n",
       "\n",
       "              str2        strat      symptom        treat       offtrt  \\\n",
       "count  2139.000000  2139.000000  2139.000000  2139.000000  2139.000000   \n",
       "mean      0.585788     1.979897     0.172978     0.751286     0.362786   \n",
       "std       0.492701     0.899053     0.378317     0.432369     0.480916   \n",
       "min       0.000000     1.000000     0.000000     0.000000     0.000000   \n",
       "25%       0.000000     1.000000     0.000000     1.000000     0.000000   \n",
       "50%       1.000000     2.000000     0.000000     1.000000     0.000000   \n",
       "75%       1.000000     3.000000     0.000000     1.000000     1.000000   \n",
       "max       1.000000     3.000000     1.000000     1.000000     1.000000   \n",
       "\n",
       "              cd40        cd420         cd80        cd820     infected  \n",
       "count  2139.000000  2139.000000  2139.000000  2139.000000  2139.000000  \n",
       "mean    350.501169   371.307153   986.627396   935.369799     0.243572  \n",
       "std     118.573863   144.634909   480.197750   444.976051     0.429338  \n",
       "min       0.000000    49.000000    40.000000   124.000000     0.000000  \n",
       "25%     263.500000   269.000000   654.000000   631.500000     0.000000  \n",
       "50%     340.000000   353.000000   893.000000   865.000000     0.000000  \n",
       "75%     423.000000   460.000000  1207.000000  1146.500000     0.000000  \n",
       "max    1199.000000  1119.000000  5011.000000  6035.000000     1.000000  \n",
       "\n",
       "[8 rows x 23 columns]"
      ]
     },
     "execution_count": 5,
     "metadata": {},
     "output_type": "execute_result"
    }
   ],
   "source": [
    "df.describe()"
   ]
  },
  {
   "cell_type": "code",
   "execution_count": 6,
   "metadata": {},
   "outputs": [],
   "source": [
    "# training and test set\n",
    "\n",
    "np.random.seed(666)\n",
    "test_indxs = np.random.choice(np.arange(df.shape[0]), size=df.shape[0] // 5, replace=False)\n",
    "df_test = df.iloc[test_indxs]\n",
    "df = df.drop(test_indxs)"
   ]
  },
  {
   "cell_type": "code",
   "execution_count": 7,
   "metadata": {},
   "outputs": [
    {
     "name": "stderr",
     "output_type": "stream",
     "text": [
      "/tmp/ipykernel_27394/2171876772.py:3: UserWarning: Ignoring `palette` because no `hue` variable has been assigned.\n",
      "  sns.histplot(x=df['infected'], bins=10, palette='viridis', kde=True)\n"
     ]
    },
    {
     "data": {
      "image/png": "[encoded data removed]",
      "text/plain": [
       "<Figure size 800x600 with 1 Axes>"
      ]
     },
     "metadata": {},
     "output_type": "display_data"
    }
   ],
   "source": [
    "# look at the response: infected\n",
    "plt.figure(figsize=(8,6))\n",
    "sns.histplot(x=df['infected'], bins=10, palette='viridis', kde=True)\n",
    "plt.title(\"The distribution of response: Infected\")\n",
    "plt.ylabel(\"\")\n",
    "plt.show()"
   ]
  },
  {
   "cell_type": "code",
   "execution_count": 8,
   "metadata": {},
   "outputs": [
    {
     "data": {
      "text/plain": [
       "0.32507739938080493"
      ]
     },
     "execution_count": 8,
     "metadata": {},
     "output_type": "execute_result"
    }
   ],
   "source": [
    "# check class imbalance\n",
    "df[df['infected'] == 1].shape[0] / df[df['infected'] == 0].shape[0] "
   ]
  },
  {
   "cell_type": "markdown",
   "metadata": {},
   "source": [
    "There are many option for data pre-processing which will depend on the data and analysis. For training purposes we will skip straight to the training."
   ]
  },
  {
   "cell_type": "code",
   "execution_count": 9,
   "metadata": {},
   "outputs": [],
   "source": [
    "# training and test set\n",
    "\n",
    "y_train = df['infected']\n",
    "X_train = df.drop('infected',axis = 1)\n",
    "\n",
    "y_test = df_test['infected']\n",
    "X_test = df_test.drop('infected',axis = 1)"
   ]
  },
  {
   "cell_type": "markdown",
   "metadata": {},
   "source": [
    "## Random Forest modelling"
   ]
  },
  {
   "cell_type": "code",
   "execution_count": 10,
   "metadata": {},
   "outputs": [],
   "source": [
    "# Random Forest\n",
    "rfc = RandomForestClassifier() # default hyperparameter values\n",
    "model = rfc.fit(X_train,y_train)"
   ]
  },
  {
   "cell_type": "markdown",
   "metadata": {},
   "source": [
    "Random Forest has many hyperparameters suitable for tuning. You can check them out [here](https://scikit-learn.org/stable/modules/generated/sklearn.ensemble.RandomForestClassifier). For imbalanced binary classification, especially the parameter class_weight can be of interest, which are the weights associated with the classes. If not given, all classes are supposed to have weight one."
   ]
  },
  {
   "cell_type": "code",
   "execution_count": 11,
   "metadata": {},
   "outputs": [
    {
     "name": "stdout",
     "output_type": "stream",
     "text": [
      "Accuracy: 0.8711943793911007\n",
      "Sensitivity: 0.693069306930693\n",
      "Balanced accuracy: 0.8097248375144263\n",
      "AUC: 0.8097248375144263\n",
      "[[302  31]\n",
      " [ 24  70]]\n",
      "              precision    recall  f1-score   support\n",
      "\n",
      "           0       0.91      0.93      0.92       326\n",
      "           1       0.74      0.69      0.72       101\n",
      "\n",
      "    accuracy                           0.87       427\n",
      "   macro avg       0.83      0.81      0.82       427\n",
      "weighted avg       0.87      0.87      0.87       427\n",
      "\n"
     ]
    }
   ],
   "source": [
    "# evaluate model\n",
    "\n",
    "y_pred = model.predict(X_test)\n",
    "accuarcy = accuracy_score(y_test,y_pred)\n",
    "bacc = balanced_accuracy_score(y_test,y_pred)\n",
    "auc = roc_auc_score(y_test, y_pred)\n",
    "sensitivity =  recall_score(y_test, y_pred)\n",
    "print(\"Accuracy:\", accuarcy)\n",
    "print(\"Sensitivity:\", sensitivity)\n",
    "print(\"Balanced accuracy:\", bacc)\n",
    "print(\"AUC:\", auc)\n",
    "\n",
    "# confusion matrix\n",
    "print(confusion_matrix(y_pred, y_test))\n",
    "print(classification_report(y_test,y_pred))"
   ]
  },
  {
   "cell_type": "code",
   "execution_count": 12,
   "metadata": {},
   "outputs": [
    {
     "data": {
      "text/plain": [
       "<sklearn.metrics._plot.roc_curve.RocCurveDisplay at 0x7f7ec8f04d60>"
      ]
     },
     "execution_count": 12,
     "metadata": {},
     "output_type": "execute_result"
    },
    {
     "data": {
      "image/png": "[encoded data removed]",
      "text/plain": [
       "<Figure size 640x480 with 1 Axes>"
      ]
     },
     "metadata": {},
     "output_type": "display_data"
    }
   ],
   "source": [
    "# plot ROC curve\n",
    "RocCurveDisplay.from_predictions(y_test, y_pred)"
   ]
  },
  {
   "cell_type": "markdown",
   "metadata": {},
   "source": [
    "## XGBoost modelling"
   ]
  },
  {
   "cell_type": "code",
   "execution_count": 13,
   "metadata": {},
   "outputs": [
    {
     "name": "stdout",
     "output_type": "stream",
     "text": [
      "[0]\tvalidation_0-logloss:0.42936\n",
      "[1]\tvalidation_0-logloss:0.37345\n",
      "[2]\tvalidation_0-logloss:0.33832\n",
      "[3]\tvalidation_0-logloss:0.31538\n",
      "[4]\tvalidation_0-logloss:0.30135\n",
      "[5]\tvalidation_0-logloss:0.29213\n",
      "[6]\tvalidation_0-logloss:0.28834\n",
      "[7]\tvalidation_0-logloss:0.28506\n",
      "[8]\tvalidation_0-logloss:0.28222\n",
      "[9]\tvalidation_0-logloss:0.28248\n",
      "[10]\tvalidation_0-logloss:0.28216\n",
      "[11]\tvalidation_0-logloss:0.28351\n",
      "[12]\tvalidation_0-logloss:0.28735\n",
      "[13]\tvalidation_0-logloss:0.29001\n",
      "[14]\tvalidation_0-logloss:0.29412\n",
      "[15]\tvalidation_0-logloss:0.29313\n",
      "[16]\tvalidation_0-logloss:0.29461\n",
      "[17]\tvalidation_0-logloss:0.29637\n",
      "[18]\tvalidation_0-logloss:0.29620\n",
      "[19]\tvalidation_0-logloss:0.29512\n",
      "[20]\tvalidation_0-logloss:0.29440\n",
      "[21]\tvalidation_0-logloss:0.29587\n",
      "[22]\tvalidation_0-logloss:0.29671\n",
      "[23]\tvalidation_0-logloss:0.29657\n",
      "[24]\tvalidation_0-logloss:0.29585\n",
      "[25]\tvalidation_0-logloss:0.29825\n",
      "[26]\tvalidation_0-logloss:0.30161\n",
      "[27]\tvalidation_0-logloss:0.30176\n",
      "[28]\tvalidation_0-logloss:0.30641\n",
      "[29]\tvalidation_0-logloss:0.30632\n",
      "[30]\tvalidation_0-logloss:0.30651\n",
      "[31]\tvalidation_0-logloss:0.30781\n",
      "[32]\tvalidation_0-logloss:0.30955\n",
      "[33]\tvalidation_0-logloss:0.30970\n",
      "[34]\tvalidation_0-logloss:0.30866\n",
      "[35]\tvalidation_0-logloss:0.31256\n",
      "[36]\tvalidation_0-logloss:0.31592\n",
      "[37]\tvalidation_0-logloss:0.31759\n",
      "[38]\tvalidation_0-logloss:0.32026\n",
      "[39]\tvalidation_0-logloss:0.32231\n",
      "[40]\tvalidation_0-logloss:0.32658\n",
      "[41]\tvalidation_0-logloss:0.32714\n",
      "[42]\tvalidation_0-logloss:0.32871\n",
      "[43]\tvalidation_0-logloss:0.33194\n",
      "[44]\tvalidation_0-logloss:0.33561\n",
      "[45]\tvalidation_0-logloss:0.33666\n",
      "[46]\tvalidation_0-logloss:0.33872\n",
      "[47]\tvalidation_0-logloss:0.33840\n",
      "[48]\tvalidation_0-logloss:0.34040\n",
      "[49]\tvalidation_0-logloss:0.34185\n",
      "[50]\tvalidation_0-logloss:0.34540\n",
      "[51]\tvalidation_0-logloss:0.34783\n",
      "[52]\tvalidation_0-logloss:0.34937\n",
      "[53]\tvalidation_0-logloss:0.34826\n",
      "[54]\tvalidation_0-logloss:0.34461\n",
      "[55]\tvalidation_0-logloss:0.34595\n",
      "[56]\tvalidation_0-logloss:0.34908\n",
      "[57]\tvalidation_0-logloss:0.35112\n",
      "[58]\tvalidation_0-logloss:0.35340\n",
      "[59]\tvalidation_0-logloss:0.35703\n",
      "[60]\tvalidation_0-logloss:0.35758\n",
      "[61]\tvalidation_0-logloss:0.36006\n",
      "[62]\tvalidation_0-logloss:0.36081\n",
      "[63]\tvalidation_0-logloss:0.36051\n",
      "[64]\tvalidation_0-logloss:0.35980\n",
      "[65]\tvalidation_0-logloss:0.36070\n",
      "[66]\tvalidation_0-logloss:0.36171\n",
      "[67]\tvalidation_0-logloss:0.36387\n",
      "[68]\tvalidation_0-logloss:0.36510\n",
      "[69]\tvalidation_0-logloss:0.36618\n",
      "[70]\tvalidation_0-logloss:0.36717\n",
      "[71]\tvalidation_0-logloss:0.36812\n",
      "[72]\tvalidation_0-logloss:0.36923\n",
      "[73]\tvalidation_0-logloss:0.37107\n",
      "[74]\tvalidation_0-logloss:0.37119\n",
      "[75]\tvalidation_0-logloss:0.37228\n",
      "[76]\tvalidation_0-logloss:0.37456\n",
      "[77]\tvalidation_0-logloss:0.37582\n",
      "[78]\tvalidation_0-logloss:0.37689\n",
      "[79]\tvalidation_0-logloss:0.37853\n",
      "[80]\tvalidation_0-logloss:0.38096\n",
      "[81]\tvalidation_0-logloss:0.38425\n",
      "[82]\tvalidation_0-logloss:0.38296\n",
      "[83]\tvalidation_0-logloss:0.38275\n",
      "[84]\tvalidation_0-logloss:0.38322\n",
      "[85]\tvalidation_0-logloss:0.38415\n",
      "[86]\tvalidation_0-logloss:0.38624\n",
      "[87]\tvalidation_0-logloss:0.38713\n",
      "[88]\tvalidation_0-logloss:0.38955\n",
      "[89]\tvalidation_0-logloss:0.39114\n",
      "[90]\tvalidation_0-logloss:0.39270\n",
      "[91]\tvalidation_0-logloss:0.39259\n",
      "[92]\tvalidation_0-logloss:0.39357\n",
      "[93]\tvalidation_0-logloss:0.39657\n",
      "[94]\tvalidation_0-logloss:0.39795\n",
      "[95]\tvalidation_0-logloss:0.39971\n",
      "[96]\tvalidation_0-logloss:0.39935\n",
      "[97]\tvalidation_0-logloss:0.39999\n",
      "[98]\tvalidation_0-logloss:0.40212\n",
      "[99]\tvalidation_0-logloss:0.40098\n"
     ]
    }
   ],
   "source": [
    "# XGBoost\n",
    "\n",
    "clf = xgb.XGBClassifier() # default hyperparameter values\n",
    "model = clf.fit(X_train, y_train, eval_set=[(X_test, y_test)])\n"
   ]
  },
  {
   "cell_type": "markdown",
   "metadata": {},
   "source": [
    "XGBoost has many hyperparameters suitable for tuning. You can check them out [here](https://xgboost.readthedocs.io/en/stable/parameter.html). For imbalanced binary classification, especially the parameter scale_pos_weight can be of interest, which controls the balance of positive and negative weights. The default value is 1, while a typical value to consider is the sum(negative instances) / sum(positive instances)."
   ]
  },
  {
   "cell_type": "code",
   "execution_count": 14,
   "metadata": {},
   "outputs": [
    {
     "name": "stdout",
     "output_type": "stream",
     "text": [
      "Accuracy: 0.8852459016393442\n",
      "Sensitivity: 0.7425742574257426\n",
      "Balanced accuracy: 0.8360110550932394\n",
      "AUC: 0.8360110550932394\n",
      "[[303  26]\n",
      " [ 23  75]]\n",
      "              precision    recall  f1-score   support\n",
      "\n",
      "           0       0.92      0.93      0.93       326\n",
      "           1       0.77      0.74      0.75       101\n",
      "\n",
      "    accuracy                           0.89       427\n",
      "   macro avg       0.84      0.84      0.84       427\n",
      "weighted avg       0.88      0.89      0.88       427\n",
      "\n"
     ]
    }
   ],
   "source": [
    "# evaluate model\n",
    "\n",
    "y_pred = model.predict(X_test)\n",
    "accuarcy = accuracy_score(y_test,y_pred)\n",
    "bacc = balanced_accuracy_score(y_test,y_pred)\n",
    "auc = roc_auc_score(y_test, y_pred)\n",
    "sensitivity =  recall_score(y_test, y_pred)\n",
    "print(\"Accuracy:\", accuarcy)\n",
    "print(\"Sensitivity:\", sensitivity)\n",
    "print(\"Balanced accuracy:\", bacc)\n",
    "print(\"AUC:\", auc)\n",
    "\n",
    "# confusion matrix\n",
    "print(confusion_matrix(y_pred, y_test))\n",
    "print(classification_report(y_test,y_pred))"
   ]
  },
  {
   "cell_type": "code",
   "execution_count": 15,
   "metadata": {},
   "outputs": [
    {
     "data": {
      "text/plain": [
       "<sklearn.metrics._plot.roc_curve.RocCurveDisplay at 0x7f7f401d4dc0>"
      ]
     },
     "execution_count": 15,
     "metadata": {},
     "output_type": "execute_result"
    },
    {
     "data": {
      "image/png": "[encoded data removed]",
      "text/plain": [
       "<Figure size 640x480 with 1 Axes>"
      ]
     },
     "metadata": {},
     "output_type": "display_data"
    }
   ],
   "source": [
    "# plot ROC curve\n",
    "RocCurveDisplay.from_predictions(y_test, y_pred)"
   ]
  },
  {
   "cell_type": "markdown",
   "metadata": {},
   "source": [
    "## Synthetic Minority Over-sampling Technique (SMOTE)\n",
    "To tackle imbalanced datasets, read the article [here](https://arxiv.org/pdf/1106.1813)."
   ]
  },
  {
   "cell_type": "code",
   "execution_count": 16,
   "metadata": {},
   "outputs": [],
   "source": [
    "# Apply SMOTE tp the dataset\n",
    "sm = SMOTE(random_state=42)\n",
    "X_res, y_res = sm.fit_resample(X_train, y_train)"
   ]
  },
  {
   "cell_type": "code",
   "execution_count": 17,
   "metadata": {},
   "outputs": [],
   "source": [
    "# Random Forest\n",
    "rfc = RandomForestClassifier() # default hyperparameter values\n",
    "model = rfc.fit(X_res,y_res)"
   ]
  },
  {
   "cell_type": "code",
   "execution_count": 18,
   "metadata": {},
   "outputs": [
    {
     "name": "stdout",
     "output_type": "stream",
     "text": [
      "Accuracy: 0.8758782201405152\n",
      "Sensitivity: 0.7821782178217822\n",
      "Balanced accuracy: 0.8435430966409525\n",
      "AUC: 0.8435430966409525\n",
      "[[295  22]\n",
      " [ 31  79]]\n",
      "              precision    recall  f1-score   support\n",
      "\n",
      "           0       0.93      0.90      0.92       326\n",
      "           1       0.72      0.78      0.75       101\n",
      "\n",
      "    accuracy                           0.88       427\n",
      "   macro avg       0.82      0.84      0.83       427\n",
      "weighted avg       0.88      0.88      0.88       427\n",
      "\n"
     ]
    }
   ],
   "source": [
    "# evaluate model\n",
    "\n",
    "y_pred = model.predict(X_test)\n",
    "accuarcy = accuracy_score(y_test,y_pred)\n",
    "bacc = balanced_accuracy_score(y_test,y_pred)\n",
    "auc = roc_auc_score(y_test, y_pred)\n",
    "sensitivity =  recall_score(y_test, y_pred)\n",
    "print(\"Accuracy:\", accuarcy)\n",
    "print(\"Sensitivity:\", sensitivity)\n",
    "print(\"Balanced accuracy:\", bacc)\n",
    "print(\"AUC:\", auc)\n",
    "\n",
    "# confusion matrix\n",
    "print(confusion_matrix(y_pred, y_test))\n",
    "print(classification_report(y_test,y_pred))"
   ]
  },
  {
   "cell_type": "code",
   "execution_count": 19,
   "metadata": {},
   "outputs": [
    {
     "data": {
      "text/plain": [
       "<sklearn.metrics._plot.roc_curve.RocCurveDisplay at 0x7f7ec4cb7790>"
      ]
     },
     "execution_count": 19,
     "metadata": {},
     "output_type": "execute_result"
    },
    {
     "data": {
      "image/png": "[encoded data removed]",
      "text/plain": [
       "<Figure size 640x480 with 1 Axes>"
      ]
     },
     "metadata": {},
     "output_type": "display_data"
    }
   ],
   "source": [
    "# plot ROC curve\n",
    "RocCurveDisplay.from_predictions(y_test, y_pred)"
   ]
  },
  {
   "cell_type": "code",
   "execution_count": 20,
   "metadata": {},
   "outputs": [
    {
     "name": "stdout",
     "output_type": "stream",
     "text": [
      "[0]\tvalidation_0-logloss:0.53078\n",
      "[1]\tvalidation_0-logloss:0.43724\n",
      "[2]\tvalidation_0-logloss:0.38047\n",
      "[3]\tvalidation_0-logloss:0.34704\n",
      "[4]\tvalidation_0-logloss:0.32685\n",
      "[5]\tvalidation_0-logloss:0.31467\n",
      "[6]\tvalidation_0-logloss:0.30331\n",
      "[7]\tvalidation_0-logloss:0.30213\n",
      "[8]\tvalidation_0-logloss:0.30241\n",
      "[9]\tvalidation_0-logloss:0.29487\n",
      "[10]\tvalidation_0-logloss:0.29103\n",
      "[11]\tvalidation_0-logloss:0.28826\n",
      "[12]\tvalidation_0-logloss:0.29097\n",
      "[13]\tvalidation_0-logloss:0.29349\n",
      "[14]\tvalidation_0-logloss:0.29432\n",
      "[15]\tvalidation_0-logloss:0.29666\n",
      "[16]\tvalidation_0-logloss:0.29721\n",
      "[17]\tvalidation_0-logloss:0.29970\n",
      "[18]\tvalidation_0-logloss:0.29870\n",
      "[19]\tvalidation_0-logloss:0.30258\n",
      "[20]\tvalidation_0-logloss:0.30813\n",
      "[21]\tvalidation_0-logloss:0.30751\n",
      "[22]\tvalidation_0-logloss:0.30782\n",
      "[23]\tvalidation_0-logloss:0.30969\n",
      "[24]\tvalidation_0-logloss:0.30847\n",
      "[25]\tvalidation_0-logloss:0.30656\n",
      "[26]\tvalidation_0-logloss:0.31339\n",
      "[27]\tvalidation_0-logloss:0.31337\n",
      "[28]\tvalidation_0-logloss:0.31612\n",
      "[29]\tvalidation_0-logloss:0.31912\n",
      "[30]\tvalidation_0-logloss:0.32140\n",
      "[31]\tvalidation_0-logloss:0.32382\n",
      "[32]\tvalidation_0-logloss:0.32683\n",
      "[33]\tvalidation_0-logloss:0.32933\n",
      "[34]\tvalidation_0-logloss:0.32920\n",
      "[35]\tvalidation_0-logloss:0.32881\n",
      "[36]\tvalidation_0-logloss:0.33107\n",
      "[37]\tvalidation_0-logloss:0.33305\n",
      "[38]\tvalidation_0-logloss:0.33623\n",
      "[39]\tvalidation_0-logloss:0.33779\n",
      "[40]\tvalidation_0-logloss:0.33971\n",
      "[41]\tvalidation_0-logloss:0.34212\n",
      "[42]\tvalidation_0-logloss:0.34329\n",
      "[43]\tvalidation_0-logloss:0.34448\n",
      "[44]\tvalidation_0-logloss:0.34874\n",
      "[45]\tvalidation_0-logloss:0.35118\n",
      "[46]\tvalidation_0-logloss:0.35165\n",
      "[47]\tvalidation_0-logloss:0.35484\n",
      "[48]\tvalidation_0-logloss:0.35541\n",
      "[49]\tvalidation_0-logloss:0.35696\n",
      "[50]\tvalidation_0-logloss:0.35884\n",
      "[51]\tvalidation_0-logloss:0.36068\n",
      "[52]\tvalidation_0-logloss:0.36232\n",
      "[53]\tvalidation_0-logloss:0.36451\n",
      "[54]\tvalidation_0-logloss:0.36489\n",
      "[55]\tvalidation_0-logloss:0.36487\n",
      "[56]\tvalidation_0-logloss:0.36758\n",
      "[57]\tvalidation_0-logloss:0.36965\n",
      "[58]\tvalidation_0-logloss:0.37160\n",
      "[59]\tvalidation_0-logloss:0.37430\n",
      "[60]\tvalidation_0-logloss:0.37541\n",
      "[61]\tvalidation_0-logloss:0.37778\n",
      "[62]\tvalidation_0-logloss:0.37915\n",
      "[63]\tvalidation_0-logloss:0.38065\n",
      "[64]\tvalidation_0-logloss:0.38034\n",
      "[65]\tvalidation_0-logloss:0.38199\n",
      "[66]\tvalidation_0-logloss:0.38516\n",
      "[67]\tvalidation_0-logloss:0.38687\n",
      "[68]\tvalidation_0-logloss:0.38670\n",
      "[69]\tvalidation_0-logloss:0.38729\n",
      "[70]\tvalidation_0-logloss:0.38714\n",
      "[71]\tvalidation_0-logloss:0.38823\n",
      "[72]\tvalidation_0-logloss:0.38937\n",
      "[73]\tvalidation_0-logloss:0.39164\n",
      "[74]\tvalidation_0-logloss:0.39330\n",
      "[75]\tvalidation_0-logloss:0.39575\n",
      "[76]\tvalidation_0-logloss:0.40018\n",
      "[77]\tvalidation_0-logloss:0.40193\n",
      "[78]\tvalidation_0-logloss:0.40494\n",
      "[79]\tvalidation_0-logloss:0.40622\n",
      "[80]\tvalidation_0-logloss:0.40783\n",
      "[81]\tvalidation_0-logloss:0.40956\n",
      "[82]\tvalidation_0-logloss:0.41038\n",
      "[83]\tvalidation_0-logloss:0.41200\n",
      "[84]\tvalidation_0-logloss:0.41455\n",
      "[85]\tvalidation_0-logloss:0.41341\n",
      "[86]\tvalidation_0-logloss:0.41483\n",
      "[87]\tvalidation_0-logloss:0.41749\n",
      "[88]\tvalidation_0-logloss:0.41771\n",
      "[89]\tvalidation_0-logloss:0.41960\n",
      "[90]\tvalidation_0-logloss:0.41970\n",
      "[91]\tvalidation_0-logloss:0.42111\n",
      "[92]\tvalidation_0-logloss:0.42361\n",
      "[93]\tvalidation_0-logloss:0.42436\n",
      "[94]\tvalidation_0-logloss:0.42580\n",
      "[95]\tvalidation_0-logloss:0.42779\n",
      "[96]\tvalidation_0-logloss:0.42826\n",
      "[97]\tvalidation_0-logloss:0.42970\n",
      "[98]\tvalidation_0-logloss:0.43072\n",
      "[99]\tvalidation_0-logloss:0.43199\n"
     ]
    }
   ],
   "source": [
    "# XGBoost\n",
    "\n",
    "clf = xgb.XGBClassifier() # default hyperparameter values\n",
    "model = clf.fit(X_res, y_res, eval_set=[(X_test, y_test)])\n"
   ]
  },
  {
   "cell_type": "code",
   "execution_count": 21,
   "metadata": {},
   "outputs": [
    {
     "name": "stdout",
     "output_type": "stream",
     "text": [
      "Accuracy: 0.8735362997658079\n",
      "Sensitivity: 0.7524752475247525\n",
      "Balanced accuracy: 0.8317590961550143\n",
      "AUC: 0.8317590961550142\n",
      "[[297  25]\n",
      " [ 29  76]]\n",
      "              precision    recall  f1-score   support\n",
      "\n",
      "           0       0.92      0.91      0.92       326\n",
      "           1       0.72      0.75      0.74       101\n",
      "\n",
      "    accuracy                           0.87       427\n",
      "   macro avg       0.82      0.83      0.83       427\n",
      "weighted avg       0.88      0.87      0.87       427\n",
      "\n"
     ]
    }
   ],
   "source": [
    "# evaluate model\n",
    "\n",
    "y_pred = model.predict(X_test)\n",
    "accuarcy = accuracy_score(y_test,y_pred)\n",
    "bacc = balanced_accuracy_score(y_test,y_pred)\n",
    "auc = roc_auc_score(y_test, y_pred)\n",
    "sensitivity =  recall_score(y_test, y_pred)\n",
    "print(\"Accuracy:\", accuarcy)\n",
    "print(\"Sensitivity:\", sensitivity)\n",
    "print(\"Balanced accuracy:\", bacc)\n",
    "print(\"AUC:\", auc)\n",
    "\n",
    "# confusion matrix\n",
    "print(confusion_matrix(y_pred, y_test))\n",
    "print(classification_report(y_test,y_pred))"
   ]
  },
  {
   "cell_type": "code",
   "execution_count": 22,
   "metadata": {},
   "outputs": [
    {
     "data": {
      "text/plain": [
       "<sklearn.metrics._plot.roc_curve.RocCurveDisplay at 0x7f7ec13b3bb0>"
      ]
     },
     "execution_count": 22,
     "metadata": {},
     "output_type": "execute_result"
    },
    {
     "data": {
      "image/png": "[encoded data removed]",
      "text/plain": [
       "<Figure size 640x480 with 1 Axes>"
      ]
     },
     "metadata": {},
     "output_type": "display_data"
    }
   ],
   "source": [
    "# plot ROC curve\n",
    "RocCurveDisplay.from_predictions(y_test, y_pred)"
   ]
  }
 ],
 "metadata": {
  "kernelspec": {
   "display_name": "Python 3",
   "language": "python",
   "name": "python3"
  },
  "language_info": {
   "codemirror_mode": {
    "name": "ipython",
    "version": 3
   },
   "file_extension": ".py",
   "mimetype": "text/x-python",
   "name": "python",
   "nbconvert_exporter": "python",
   "pygments_lexer": "ipython3",
   "version": "3.10.12"
  }
 },
 "nbformat": 4,
 "nbformat_minor": 2
}
